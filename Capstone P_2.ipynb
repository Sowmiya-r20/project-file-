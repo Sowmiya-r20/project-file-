{
 "cells": [
  {
   "cell_type": "markdown",
   "id": "e86d6c99-1015-47eb-a943-32e4a52751fc",
   "metadata": {},
   "source": [
    "# Sprint 4"
   ]
  },
  {
   "cell_type": "markdown",
   "id": "56e63f81-56fd-4ce9-9d08-47b5157882ab",
   "metadata": {},
   "source": [
    "# Logistic Regression"
   ]
  },
  {
   "cell_type": "code",
   "execution_count": 3,
   "id": "063afd6e-dbce-44e9-8616-6bc447d1dc62",
   "metadata": {},
   "outputs": [
    {
     "data": {
      "text/html": [
       "<div>\n",
       "<style scoped>\n",
       "    .dataframe tbody tr th:only-of-type {\n",
       "        vertical-align: middle;\n",
       "    }\n",
       "\n",
       "    .dataframe tbody tr th {\n",
       "        vertical-align: top;\n",
       "    }\n",
       "\n",
       "    .dataframe thead th {\n",
       "        text-align: right;\n",
       "    }\n",
       "</style>\n",
       "<table border=\"1\" class=\"dataframe\">\n",
       "  <thead>\n",
       "    <tr style=\"text-align: right;\">\n",
       "      <th></th>\n",
       "      <th>Unnamed: 0</th>\n",
       "      <th>appearance_id</th>\n",
       "      <th>game_id_x</th>\n",
       "      <th>player_id</th>\n",
       "      <th>competition_id_x</th>\n",
       "      <th>yellow_cards</th>\n",
       "      <th>red_cards</th>\n",
       "      <th>goals</th>\n",
       "      <th>assists</th>\n",
       "      <th>minutes_played</th>\n",
       "      <th>...</th>\n",
       "      <th>sub_position</th>\n",
       "      <th>position_x</th>\n",
       "      <th>foot</th>\n",
       "      <th>height_in_cm</th>\n",
       "      <th>market_value_in_eur</th>\n",
       "      <th>highest_market_value_in_eur</th>\n",
       "      <th>game_lineups_id</th>\n",
       "      <th>number</th>\n",
       "      <th>player_name_y</th>\n",
       "      <th>team_captain</th>\n",
       "    </tr>\n",
       "  </thead>\n",
       "  <tbody>\n",
       "    <tr>\n",
       "      <th>0</th>\n",
       "      <td>0</td>\n",
       "      <td>2231426_49723</td>\n",
       "      <td>2231426</td>\n",
       "      <td>49723</td>\n",
       "      <td>L1</td>\n",
       "      <td>0</td>\n",
       "      <td>0</td>\n",
       "      <td>0</td>\n",
       "      <td>0</td>\n",
       "      <td>70</td>\n",
       "      <td>...</td>\n",
       "      <td>Right-Back</td>\n",
       "      <td>Defender</td>\n",
       "      <td>right</td>\n",
       "      <td>186.0</td>\n",
       "      <td>700000.0</td>\n",
       "      <td>5000000.0</td>\n",
       "      <td>8d717b1017e72d89d2ee1112bb2d7466</td>\n",
       "      <td>22</td>\n",
       "      <td>Timothy Chandler</td>\n",
       "      <td>0</td>\n",
       "    </tr>\n",
       "    <tr>\n",
       "      <th>1</th>\n",
       "      <td>1</td>\n",
       "      <td>2231426_49723</td>\n",
       "      <td>2231426</td>\n",
       "      <td>49723</td>\n",
       "      <td>L1</td>\n",
       "      <td>0</td>\n",
       "      <td>0</td>\n",
       "      <td>0</td>\n",
       "      <td>0</td>\n",
       "      <td>70</td>\n",
       "      <td>...</td>\n",
       "      <td>Right-Back</td>\n",
       "      <td>Defender</td>\n",
       "      <td>right</td>\n",
       "      <td>186.0</td>\n",
       "      <td>700000.0</td>\n",
       "      <td>5000000.0</td>\n",
       "      <td>d53eb3fd74523d6dd4536653c145ae96</td>\n",
       "      <td>22</td>\n",
       "      <td>Timothy Chandler</td>\n",
       "      <td>0</td>\n",
       "    </tr>\n",
       "    <tr>\n",
       "      <th>2</th>\n",
       "      <td>2</td>\n",
       "      <td>2231426_49723</td>\n",
       "      <td>2231426</td>\n",
       "      <td>49723</td>\n",
       "      <td>L1</td>\n",
       "      <td>0</td>\n",
       "      <td>0</td>\n",
       "      <td>0</td>\n",
       "      <td>0</td>\n",
       "      <td>70</td>\n",
       "      <td>...</td>\n",
       "      <td>Right-Back</td>\n",
       "      <td>Defender</td>\n",
       "      <td>right</td>\n",
       "      <td>186.0</td>\n",
       "      <td>700000.0</td>\n",
       "      <td>5000000.0</td>\n",
       "      <td>3efc21c645e46b2f411bcdb1710aa444</td>\n",
       "      <td>22</td>\n",
       "      <td>Timothy Chandler</td>\n",
       "      <td>0</td>\n",
       "    </tr>\n",
       "    <tr>\n",
       "      <th>3</th>\n",
       "      <td>3</td>\n",
       "      <td>2231426_49723</td>\n",
       "      <td>2231426</td>\n",
       "      <td>49723</td>\n",
       "      <td>L1</td>\n",
       "      <td>0</td>\n",
       "      <td>0</td>\n",
       "      <td>0</td>\n",
       "      <td>0</td>\n",
       "      <td>70</td>\n",
       "      <td>...</td>\n",
       "      <td>Right-Back</td>\n",
       "      <td>Defender</td>\n",
       "      <td>right</td>\n",
       "      <td>186.0</td>\n",
       "      <td>700000.0</td>\n",
       "      <td>5000000.0</td>\n",
       "      <td>cc79e78c570ce19872dfed125d324407</td>\n",
       "      <td>22</td>\n",
       "      <td>Timothy Chandler</td>\n",
       "      <td>0</td>\n",
       "    </tr>\n",
       "    <tr>\n",
       "      <th>4</th>\n",
       "      <td>4</td>\n",
       "      <td>2231426_49723</td>\n",
       "      <td>2231426</td>\n",
       "      <td>49723</td>\n",
       "      <td>L1</td>\n",
       "      <td>0</td>\n",
       "      <td>0</td>\n",
       "      <td>0</td>\n",
       "      <td>0</td>\n",
       "      <td>70</td>\n",
       "      <td>...</td>\n",
       "      <td>Right-Back</td>\n",
       "      <td>Defender</td>\n",
       "      <td>right</td>\n",
       "      <td>186.0</td>\n",
       "      <td>700000.0</td>\n",
       "      <td>5000000.0</td>\n",
       "      <td>21de58902f547e231bf2604be9fa996f</td>\n",
       "      <td>22</td>\n",
       "      <td>Timothy Chandler</td>\n",
       "      <td>0</td>\n",
       "    </tr>\n",
       "    <tr>\n",
       "      <th>...</th>\n",
       "      <td>...</td>\n",
       "      <td>...</td>\n",
       "      <td>...</td>\n",
       "      <td>...</td>\n",
       "      <td>...</td>\n",
       "      <td>...</td>\n",
       "      <td>...</td>\n",
       "      <td>...</td>\n",
       "      <td>...</td>\n",
       "      <td>...</td>\n",
       "      <td>...</td>\n",
       "      <td>...</td>\n",
       "      <td>...</td>\n",
       "      <td>...</td>\n",
       "      <td>...</td>\n",
       "      <td>...</td>\n",
       "      <td>...</td>\n",
       "      <td>...</td>\n",
       "      <td>...</td>\n",
       "      <td>...</td>\n",
       "      <td>...</td>\n",
       "    </tr>\n",
       "    <tr>\n",
       "      <th>4194</th>\n",
       "      <td>4194</td>\n",
       "      <td>3415291_537467</td>\n",
       "      <td>3415291</td>\n",
       "      <td>537467</td>\n",
       "      <td>BE1</td>\n",
       "      <td>0</td>\n",
       "      <td>0</td>\n",
       "      <td>1</td>\n",
       "      <td>0</td>\n",
       "      <td>77</td>\n",
       "      <td>...</td>\n",
       "      <td>Centre-Forward</td>\n",
       "      <td>Attack</td>\n",
       "      <td>right</td>\n",
       "      <td>176.0</td>\n",
       "      <td>300000.0</td>\n",
       "      <td>600000.0</td>\n",
       "      <td>26085977dac1dc934abb39888f128636</td>\n",
       "      <td>11</td>\n",
       "      <td>Joseph Efford</td>\n",
       "      <td>0</td>\n",
       "    </tr>\n",
       "    <tr>\n",
       "      <th>4195</th>\n",
       "      <td>4195</td>\n",
       "      <td>3415291_537467</td>\n",
       "      <td>3415291</td>\n",
       "      <td>537467</td>\n",
       "      <td>BE1</td>\n",
       "      <td>0</td>\n",
       "      <td>0</td>\n",
       "      <td>1</td>\n",
       "      <td>0</td>\n",
       "      <td>77</td>\n",
       "      <td>...</td>\n",
       "      <td>Centre-Forward</td>\n",
       "      <td>Attack</td>\n",
       "      <td>right</td>\n",
       "      <td>176.0</td>\n",
       "      <td>300000.0</td>\n",
       "      <td>600000.0</td>\n",
       "      <td>eadce2f0ce9f400d0561a8c05453d702</td>\n",
       "      <td>28</td>\n",
       "      <td>Joseph Efford</td>\n",
       "      <td>0</td>\n",
       "    </tr>\n",
       "    <tr>\n",
       "      <th>4196</th>\n",
       "      <td>4196</td>\n",
       "      <td>3415291_537467</td>\n",
       "      <td>3415291</td>\n",
       "      <td>537467</td>\n",
       "      <td>BE1</td>\n",
       "      <td>0</td>\n",
       "      <td>0</td>\n",
       "      <td>1</td>\n",
       "      <td>0</td>\n",
       "      <td>77</td>\n",
       "      <td>...</td>\n",
       "      <td>Centre-Forward</td>\n",
       "      <td>Attack</td>\n",
       "      <td>right</td>\n",
       "      <td>176.0</td>\n",
       "      <td>300000.0</td>\n",
       "      <td>600000.0</td>\n",
       "      <td>bc79183aa9a1ffacb14cc733f6143411</td>\n",
       "      <td>28</td>\n",
       "      <td>Joseph Efford</td>\n",
       "      <td>0</td>\n",
       "    </tr>\n",
       "    <tr>\n",
       "      <th>4197</th>\n",
       "      <td>4197</td>\n",
       "      <td>3415291_537467</td>\n",
       "      <td>3415291</td>\n",
       "      <td>537467</td>\n",
       "      <td>BE1</td>\n",
       "      <td>0</td>\n",
       "      <td>0</td>\n",
       "      <td>1</td>\n",
       "      <td>0</td>\n",
       "      <td>77</td>\n",
       "      <td>...</td>\n",
       "      <td>Centre-Forward</td>\n",
       "      <td>Attack</td>\n",
       "      <td>right</td>\n",
       "      <td>176.0</td>\n",
       "      <td>300000.0</td>\n",
       "      <td>600000.0</td>\n",
       "      <td>e16817800f83daf7bad1ddabf58316b7</td>\n",
       "      <td>28</td>\n",
       "      <td>Joseph Efford</td>\n",
       "      <td>0</td>\n",
       "    </tr>\n",
       "    <tr>\n",
       "      <th>4198</th>\n",
       "      <td>4198</td>\n",
       "      <td>3415291_537467</td>\n",
       "      <td>3415291</td>\n",
       "      <td>537467</td>\n",
       "      <td>BE1</td>\n",
       "      <td>0</td>\n",
       "      <td>0</td>\n",
       "      <td>1</td>\n",
       "      <td>0</td>\n",
       "      <td>77</td>\n",
       "      <td>...</td>\n",
       "      <td>Centre-Forward</td>\n",
       "      <td>Attack</td>\n",
       "      <td>right</td>\n",
       "      <td>176.0</td>\n",
       "      <td>300000.0</td>\n",
       "      <td>600000.0</td>\n",
       "      <td>0d88348def07721797108005edf3c5b4</td>\n",
       "      <td>28</td>\n",
       "      <td>Joseph Efford</td>\n",
       "      <td>0</td>\n",
       "    </tr>\n",
       "  </tbody>\n",
       "</table>\n",
       "<p>4199 rows × 42 columns</p>\n",
       "</div>"
      ],
      "text/plain": [
       "      Unnamed: 0   appearance_id  game_id_x  player_id competition_id_x  \\\n",
       "0              0   2231426_49723    2231426      49723               L1   \n",
       "1              1   2231426_49723    2231426      49723               L1   \n",
       "2              2   2231426_49723    2231426      49723               L1   \n",
       "3              3   2231426_49723    2231426      49723               L1   \n",
       "4              4   2231426_49723    2231426      49723               L1   \n",
       "...          ...             ...        ...        ...              ...   \n",
       "4194        4194  3415291_537467    3415291     537467              BE1   \n",
       "4195        4195  3415291_537467    3415291     537467              BE1   \n",
       "4196        4196  3415291_537467    3415291     537467              BE1   \n",
       "4197        4197  3415291_537467    3415291     537467              BE1   \n",
       "4198        4198  3415291_537467    3415291     537467              BE1   \n",
       "\n",
       "      yellow_cards  red_cards  goals  assists  minutes_played  ...  \\\n",
       "0                0          0      0        0              70  ...   \n",
       "1                0          0      0        0              70  ...   \n",
       "2                0          0      0        0              70  ...   \n",
       "3                0          0      0        0              70  ...   \n",
       "4                0          0      0        0              70  ...   \n",
       "...            ...        ...    ...      ...             ...  ...   \n",
       "4194             0          0      1        0              77  ...   \n",
       "4195             0          0      1        0              77  ...   \n",
       "4196             0          0      1        0              77  ...   \n",
       "4197             0          0      1        0              77  ...   \n",
       "4198             0          0      1        0              77  ...   \n",
       "\n",
       "        sub_position position_x   foot  height_in_cm market_value_in_eur  \\\n",
       "0         Right-Back   Defender  right         186.0            700000.0   \n",
       "1         Right-Back   Defender  right         186.0            700000.0   \n",
       "2         Right-Back   Defender  right         186.0            700000.0   \n",
       "3         Right-Back   Defender  right         186.0            700000.0   \n",
       "4         Right-Back   Defender  right         186.0            700000.0   \n",
       "...              ...        ...    ...           ...                 ...   \n",
       "4194  Centre-Forward     Attack  right         176.0            300000.0   \n",
       "4195  Centre-Forward     Attack  right         176.0            300000.0   \n",
       "4196  Centre-Forward     Attack  right         176.0            300000.0   \n",
       "4197  Centre-Forward     Attack  right         176.0            300000.0   \n",
       "4198  Centre-Forward     Attack  right         176.0            300000.0   \n",
       "\n",
       "     highest_market_value_in_eur                   game_lineups_id  number  \\\n",
       "0                      5000000.0  8d717b1017e72d89d2ee1112bb2d7466      22   \n",
       "1                      5000000.0  d53eb3fd74523d6dd4536653c145ae96      22   \n",
       "2                      5000000.0  3efc21c645e46b2f411bcdb1710aa444      22   \n",
       "3                      5000000.0  cc79e78c570ce19872dfed125d324407      22   \n",
       "4                      5000000.0  21de58902f547e231bf2604be9fa996f      22   \n",
       "...                          ...                               ...     ...   \n",
       "4194                    600000.0  26085977dac1dc934abb39888f128636      11   \n",
       "4195                    600000.0  eadce2f0ce9f400d0561a8c05453d702      28   \n",
       "4196                    600000.0  bc79183aa9a1ffacb14cc733f6143411      28   \n",
       "4197                    600000.0  e16817800f83daf7bad1ddabf58316b7      28   \n",
       "4198                    600000.0  0d88348def07721797108005edf3c5b4      28   \n",
       "\n",
       "         player_name_y team_captain  \n",
       "0     Timothy Chandler            0  \n",
       "1     Timothy Chandler            0  \n",
       "2     Timothy Chandler            0  \n",
       "3     Timothy Chandler            0  \n",
       "4     Timothy Chandler            0  \n",
       "...                ...          ...  \n",
       "4194     Joseph Efford            0  \n",
       "4195     Joseph Efford            0  \n",
       "4196     Joseph Efford            0  \n",
       "4197     Joseph Efford            0  \n",
       "4198     Joseph Efford            0  \n",
       "\n",
       "[4199 rows x 42 columns]"
      ]
     },
     "execution_count": 3,
     "metadata": {},
     "output_type": "execute_result"
    }
   ],
   "source": [
    "import pandas as pd\n",
    "data=pd.read_csv(\"Football_data_merged_cleaned.csv\")\n",
    "data"
   ]
  },
  {
   "cell_type": "markdown",
   "id": "d370a176-3946-4365-b5f8-b0910555e965",
   "metadata": {},
   "source": [
    "## Business Question\n",
    " ### 1. Performance Analysis: Logistic Regression for Classification\n",
    "1: Can we classify players likely to score goals?\n",
    "2: What are the significant predictors of receiving yellow cards?\n",
    " ### 2. Player Profile and Market Value\n",
    "3: What are the average market values of players by their positions?\n",
    "4: How does player height correlate with market value?\n",
    "5: What are the top 5 clubs with the highest average player market value?\n",
    "6: What are the distributions of foot preferences among players?"
   ]
  },
  {
   "cell_type": "code",
   "execution_count": 5,
   "id": "259f6a7d-e939-453d-b435-5d7cf1a80291",
   "metadata": {},
   "outputs": [],
   "source": [
    "import pandas as pd\n",
    "import numpy as np\n",
    "import matplotlib.pyplot as plt\n",
    "import seaborn as sns\n",
    "from sklearn.model_selection import train_test_split\n",
    "from sklearn.linear_model import LogisticRegression\n",
    "from sklearn.metrics import accuracy_score, classification_report, confusion_matrix\n",
    "\n",
    "import warnings\n",
    "warnings.filterwarnings(\"ignore\")"
   ]
  },
  {
   "cell_type": "code",
   "execution_count": 6,
   "id": "6c7463d6-77aa-42c1-8560-0f42684af926",
   "metadata": {},
   "outputs": [
    {
     "name": "stdout",
     "output_type": "stream",
     "text": [
      "Predicting Players Likely to Score Goals\n",
      "Accuracy: 0.6126984126984127\n",
      "Classification Report:               precision    recall  f1-score   support\n",
      "\n",
      "           0       0.63      0.94      0.75       788\n",
      "           1       0.40      0.07      0.12       472\n",
      "\n",
      "    accuracy                           0.61      1260\n",
      "   macro avg       0.51      0.50      0.43      1260\n",
      "weighted avg       0.54      0.61      0.51      1260\n",
      "\n",
      "Confusion Matrix: [[740  48]\n",
      " [440  32]]\n"
     ]
    }
   ],
   "source": [
    "#1. Logistic Regression: Predict players likely to score goals \n",
    "data['scored_goal'] = (data['goals'] > 0).astype(int)\n",
    "X_goals = data[['minutes_played', 'assists', 'yellow_cards', 'red_cards']]\n",
    "y_goals = data['scored_goal']\n",
    "\n",
    "X_train_goals, X_test_goals, y_train_goals, y_test_goals = train_test_split(X_goals, y_goals, test_size=0.3, random_state=42)\n",
    "log_reg_goals = LogisticRegression()\n",
    "log_reg_goals.fit(X_train_goals, y_train_goals)\n",
    "y_pred_goals = log_reg_goals.predict(X_test_goals)\n",
    "\n",
    "print(\"Predicting Players Likely to Score Goals\")\n",
    "print(\"Accuracy:\", accuracy_score(y_test_goals, y_pred_goals))\n",
    "print(\"Classification Report:\", classification_report(y_test_goals, y_pred_goals))\n",
    "print(\"Confusion Matrix:\", confusion_matrix(y_test_goals, y_pred_goals))"
   ]
  },
  {
   "cell_type": "markdown",
   "id": "dae364b1-617f-4729-8c98-528bc929e3e5",
   "metadata": {},
   "source": [
    "### Interpretation:\n",
    "The logistic regression model predicts whether a player is likely to score a goal based on metrics like minutes played and assists. The model's moderate accuracy suggests potential for improvement by adding more predictive features"
   ]
  },
  {
   "cell_type": "code",
   "execution_count": 8,
   "id": "878a1a55-94d3-49b7-9549-b7f95a9678d7",
   "metadata": {},
   "outputs": [
    {
     "name": "stdout",
     "output_type": "stream",
     "text": [
      "Predicting Players Likely to Receive Yellow Cards\n",
      "Accuracy: 0.8341269841269842\n",
      "Classification Report:\n",
      "               precision    recall  f1-score   support\n",
      "\n",
      "           0       0.83      1.00      0.91      1051\n",
      "           1       0.00      0.00      0.00       209\n",
      "\n",
      "    accuracy                           0.83      1260\n",
      "   macro avg       0.42      0.50      0.45      1260\n",
      "weighted avg       0.70      0.83      0.76      1260\n",
      "\n",
      "Confusion Matrix:\n",
      " [[1051    0]\n",
      " [ 209    0]]\n"
     ]
    }
   ],
   "source": [
    "#2 Logistic Regression: Predict players likely to receive yellow cards\n",
    "data['received_yellow_card'] = (data['yellow_cards'] > 0).astype(int)\n",
    "X_yellow = data[['minutes_played', 'assists', 'goals', 'red_cards']]\n",
    "y_yellow = data['received_yellow_card']\n",
    "\n",
    "X_train_yellow, X_test_yellow, y_train_yellow, y_test_yellow = train_test_split(X_yellow, y_yellow, test_size=0.3, random_state=42)\n",
    "log_reg_yellow = LogisticRegression()\n",
    "log_reg_yellow.fit(X_train_yellow, y_train_yellow)\n",
    "y_pred_yellow = log_reg_yellow.predict(X_test_yellow)\n",
    "\n",
    "print(\"Predicting Players Likely to Receive Yellow Cards\")\n",
    "print(\"Accuracy:\", accuracy_score(y_test_yellow, y_pred_yellow))\n",
    "print(\"Classification Report:\\n\", classification_report(y_test_yellow, y_pred_yellow))\n",
    "print(\"Confusion Matrix:\\n\", confusion_matrix(y_test_yellow, y_pred_yellow))"
   ]
  },
  {
   "cell_type": "markdown",
   "id": "8b5fb74a-1c16-474b-877b-fd32d8317eed",
   "metadata": {},
   "source": [
    "### Interpretation:\n",
    "Logistic regression identifies the likelihood of a player receiving a yellow card based on factors like minutes played, goals, and red cards. The model highlights key predictors, but recall could improve with more data."
   ]
  },
  {
   "cell_type": "code",
   "execution_count": 10,
   "id": "0c9480f7-6ccf-4921-bda8-fa3bbfaa6763",
   "metadata": {},
   "outputs": [
    {
     "name": "stdout",
     "output_type": "stream",
     "text": [
      "Average Market Value by Position:\n",
      " position_x\n",
      "Midfield    1.610464e+07\n",
      "Attack      1.345632e+07\n",
      "Defender    2.211712e+06\n",
      "Name: market_value_in_eur, dtype: float64\n"
     ]
    },
    {
     "data": {
      "image/png": "[encoded data removed]",
      "text/plain": [
       "<Figure size 640x480 with 1 Axes>"
      ]
     },
     "metadata": {},
     "output_type": "display_data"
    }
   ],
   "source": [
    "# 3: Average market value by position\n",
    "position_avg_value = data.groupby('position_x')['market_value_in_eur'].mean().sort_values(ascending=False)\n",
    "print(\"Average Market Value by Position:\\n\", position_avg_value)\n",
    "position_avg_value.plot(kind='bar', title='Average Market Value by Position', color='brown')\n",
    "plt.ylabel('Average Market Value (EUR)')\n",
    "plt.show()"
   ]
  },
  {
   "cell_type": "markdown",
   "id": "ac265ad2-8ae4-4de2-902e-80c791e5287b",
   "metadata": {},
   "source": [
    "### Interpretation:\n",
    "The analysis reveals positions with the highest average market values, such as forwards and midfielders. This information is crucial for understanding positional value in player markets."
   ]
  },
  {
   "cell_type": "code",
   "execution_count": 12,
   "id": "7cf06c84-f677-4e1d-8c7c-e90541939f02",
   "metadata": {},
   "outputs": [
    {
     "name": "stdout",
     "output_type": "stream",
     "text": [
      "Correlation between Height and Market Value: -0.3458053322025998\n"
     ]
    },
    {
     "data": {
      "image/png": "[encoded data removed]",
      "text/plain": [
       "<Figure size 640x480 with 1 Axes>"
      ]
     },
     "metadata": {},
     "output_type": "display_data"
    }
   ],
   "source": [
    "# 4: Correlation between player height and market value\n",
    "correlation = data['height_in_cm'].corr(data['market_value_in_eur'])\n",
    "print(\"Correlation between Height and Market Value:\", correlation)\n",
    "sns.scatterplot(x='height_in_cm', y='market_value_in_eur', data=data, alpha=0.6)\n",
    "plt.title('Height vs Market Value')\n",
    "plt.xlabel('Height (cm)')\n",
    "plt.ylabel('Market Value (EUR)')\n",
    "plt.show()"
   ]
  },
  {
   "cell_type": "markdown",
   "id": "a74f8159-982a-4b2e-9b43-e6080f78a42b",
   "metadata": {},
   "source": [
    "### Interpretation: \n",
    "A weak or moderate correlation between height and market value suggests that while height may influence value, other factors like skills and performance play a larger role."
   ]
  },
  {
   "cell_type": "code",
   "execution_count": 14,
   "id": "fc88224e-4941-454b-b1c0-1ca3ccb5e347",
   "metadata": {},
   "outputs": [
    {
     "name": "stdout",
     "output_type": "stream",
     "text": [
      "Top 5 Clubs with Highest Average Market Value: away_club_name\n",
      "Leicester City                       25000000.0\n",
      "Sport Lisboa e Benfica               25000000.0\n",
      "Chelsea Football Club                25000000.0\n",
      "Atalanta Bergamasca Calcio S.p.a.    25000000.0\n",
      "Aston Villa Football Club            25000000.0\n",
      "Name: market_value_in_eur, dtype: float64\n"
     ]
    },
    {
     "data": {
      "image/png": "[encoded data removed]",
      "text/plain": [
       "<Figure size 640x480 with 1 Axes>"
      ]
     },
     "metadata": {},
     "output_type": "display_data"
    }
   ],
   "source": [
    "# Top 5 clubs with the highest average market value\n",
    "club_avg_value = data.groupby('away_club_name')['market_value_in_eur'].mean().sort_values(ascending=False).head(5)\n",
    "print(\"Top 5 Clubs with Highest Average Market Value:\", club_avg_value)\n",
    "club_avg_value.plot(kind='bar', title='Top 5 Clubs by Average Market Value', color='orange')\n",
    "plt.ylabel('Average Market Value (EUR)')\n",
    "plt.show()\n"
   ]
  },
  {
   "cell_type": "markdown",
   "id": "3851c946-87b1-424c-af88-731a71a60c43",
   "metadata": {},
   "source": [
    "### Interpretation:\n",
    "The top clubs with the highest average player market value highlight teams with premium talent. These insights can guide investment or player acquisition strategies."
   ]
  },
  {
   "cell_type": "code",
   "execution_count": 16,
   "id": "adbae1ca-0297-4937-a431-cd98cdf4177a",
   "metadata": {},
   "outputs": [
    {
     "data": {
      "text/plain": [
       "Index(['Unnamed: 0', 'appearance_id', 'game_id_x', 'player_id',\n",
       "       'competition_id_x', 'yellow_cards', 'red_cards', 'goals', 'assists',\n",
       "       'minutes_played', 'season', 'round', 'home_club_goals',\n",
       "       'away_club_goals', 'home_club_manager_name', 'away_club_manager_name',\n",
       "       'stadium', 'attendance', 'referee', 'away_club_name', 'aggregate',\n",
       "       'competition_type', 'game_event_id', 'date', 'minute', 'type_x', 'name',\n",
       "       'last_season', 'current_club_id', 'player_code', 'country_of_birth',\n",
       "       'date_of_birth', 'sub_position', 'position_x', 'foot', 'height_in_cm',\n",
       "       'market_value_in_eur', 'highest_market_value_in_eur', 'game_lineups_id',\n",
       "       'number', 'player_name_y', 'team_captain', 'scored_goal',\n",
       "       'received_yellow_card'],\n",
       "      dtype='object')"
      ]
     },
     "execution_count": 16,
     "metadata": {},
     "output_type": "execute_result"
    }
   ],
   "source": [
    "data.columns"
   ]
  },
  {
   "cell_type": "code",
   "execution_count": 17,
   "id": "4bd1b0ad-3ef3-48ce-827d-42fff69a89ba",
   "metadata": {},
   "outputs": [
    {
     "name": "stdout",
     "output_type": "stream",
     "text": [
      " Distribution of Foot Preferences:\n",
      " foot\n",
      "right    3425\n",
      "left      669\n",
      "both      105\n",
      "Name: count, dtype: int64\n"
     ]
    },
    {
     "data": {
      "image/png": "[encoded data removed]",
      "text/plain": [
       "<Figure size 640x480 with 1 Axes>"
      ]
     },
     "metadata": {},
     "output_type": "display_data"
    }
   ],
   "source": [
    "# 6: Distribution of foot preferences among players\n",
    "foot_distribution = data['foot'].value_counts()\n",
    "print(\" Distribution of Foot Preferences:\\n\", foot_distribution)\n",
    "foot_distribution.plot(kind='pie', autopct='%1.1f%%', title='Foot Preference Distribution', colors=['lightgreen', 'gold','brown'])\n",
    "plt.ylabel('')\n",
    "plt.show()"
   ]
  },
  {
   "cell_type": "markdown",
   "id": "6bffd70c-df57-443d-b1b4-154f8df64526",
   "metadata": {},
   "source": [
    "### Interpretation:\n",
    "The distribution of players’ preferred foot shows a dominance of right-footed players, with a significant share of left-footed and ambidextrous players, which informs scouting and team-building strategies."
   ]
  },
  {
   "cell_type": "code",
   "execution_count": 19,
   "id": "4a5ebe51-dfc4-40c7-8473-c4a2dbe6e0bf",
   "metadata": {},
   "outputs": [
    {
     "data": {
      "text/html": [
       "<div>\n",
       "<style scoped>\n",
       "    .dataframe tbody tr th:only-of-type {\n",
       "        vertical-align: middle;\n",
       "    }\n",
       "\n",
       "    .dataframe tbody tr th {\n",
       "        vertical-align: top;\n",
       "    }\n",
       "\n",
       "    .dataframe thead th {\n",
       "        text-align: right;\n",
       "    }\n",
       "</style>\n",
       "<table border=\"1\" class=\"dataframe\">\n",
       "  <thead>\n",
       "    <tr style=\"text-align: right;\">\n",
       "      <th></th>\n",
       "      <th>Unnamed: 0</th>\n",
       "      <th>appearance_id</th>\n",
       "      <th>game_id_x</th>\n",
       "      <th>player_id</th>\n",
       "      <th>competition_id_x</th>\n",
       "      <th>yellow_cards</th>\n",
       "      <th>red_cards</th>\n",
       "      <th>goals</th>\n",
       "      <th>assists</th>\n",
       "      <th>minutes_played</th>\n",
       "      <th>...</th>\n",
       "      <th>foot</th>\n",
       "      <th>height_in_cm</th>\n",
       "      <th>market_value_in_eur</th>\n",
       "      <th>highest_market_value_in_eur</th>\n",
       "      <th>game_lineups_id</th>\n",
       "      <th>number</th>\n",
       "      <th>player_name_y</th>\n",
       "      <th>team_captain</th>\n",
       "      <th>scored_goal</th>\n",
       "      <th>received_yellow_card</th>\n",
       "    </tr>\n",
       "  </thead>\n",
       "  <tbody>\n",
       "    <tr>\n",
       "      <th>0</th>\n",
       "      <td>0</td>\n",
       "      <td>2231426_49723</td>\n",
       "      <td>2231426</td>\n",
       "      <td>49723</td>\n",
       "      <td>L1</td>\n",
       "      <td>0</td>\n",
       "      <td>0</td>\n",
       "      <td>0</td>\n",
       "      <td>0</td>\n",
       "      <td>70</td>\n",
       "      <td>...</td>\n",
       "      <td>right</td>\n",
       "      <td>186.0</td>\n",
       "      <td>700000.0</td>\n",
       "      <td>5000000.0</td>\n",
       "      <td>8d717b1017e72d89d2ee1112bb2d7466</td>\n",
       "      <td>22</td>\n",
       "      <td>Timothy Chandler</td>\n",
       "      <td>0</td>\n",
       "      <td>0</td>\n",
       "      <td>0</td>\n",
       "    </tr>\n",
       "    <tr>\n",
       "      <th>1</th>\n",
       "      <td>1</td>\n",
       "      <td>2231426_49723</td>\n",
       "      <td>2231426</td>\n",
       "      <td>49723</td>\n",
       "      <td>L1</td>\n",
       "      <td>0</td>\n",
       "      <td>0</td>\n",
       "      <td>0</td>\n",
       "      <td>0</td>\n",
       "      <td>70</td>\n",
       "      <td>...</td>\n",
       "      <td>right</td>\n",
       "      <td>186.0</td>\n",
       "      <td>700000.0</td>\n",
       "      <td>5000000.0</td>\n",
       "      <td>d53eb3fd74523d6dd4536653c145ae96</td>\n",
       "      <td>22</td>\n",
       "      <td>Timothy Chandler</td>\n",
       "      <td>0</td>\n",
       "      <td>0</td>\n",
       "      <td>0</td>\n",
       "    </tr>\n",
       "    <tr>\n",
       "      <th>2</th>\n",
       "      <td>2</td>\n",
       "      <td>2231426_49723</td>\n",
       "      <td>2231426</td>\n",
       "      <td>49723</td>\n",
       "      <td>L1</td>\n",
       "      <td>0</td>\n",
       "      <td>0</td>\n",
       "      <td>0</td>\n",
       "      <td>0</td>\n",
       "      <td>70</td>\n",
       "      <td>...</td>\n",
       "      <td>right</td>\n",
       "      <td>186.0</td>\n",
       "      <td>700000.0</td>\n",
       "      <td>5000000.0</td>\n",
       "      <td>3efc21c645e46b2f411bcdb1710aa444</td>\n",
       "      <td>22</td>\n",
       "      <td>Timothy Chandler</td>\n",
       "      <td>0</td>\n",
       "      <td>0</td>\n",
       "      <td>0</td>\n",
       "    </tr>\n",
       "    <tr>\n",
       "      <th>3</th>\n",
       "      <td>3</td>\n",
       "      <td>2231426_49723</td>\n",
       "      <td>2231426</td>\n",
       "      <td>49723</td>\n",
       "      <td>L1</td>\n",
       "      <td>0</td>\n",
       "      <td>0</td>\n",
       "      <td>0</td>\n",
       "      <td>0</td>\n",
       "      <td>70</td>\n",
       "      <td>...</td>\n",
       "      <td>right</td>\n",
       "      <td>186.0</td>\n",
       "      <td>700000.0</td>\n",
       "      <td>5000000.0</td>\n",
       "      <td>cc79e78c570ce19872dfed125d324407</td>\n",
       "      <td>22</td>\n",
       "      <td>Timothy Chandler</td>\n",
       "      <td>0</td>\n",
       "      <td>0</td>\n",
       "      <td>0</td>\n",
       "    </tr>\n",
       "    <tr>\n",
       "      <th>4</th>\n",
       "      <td>4</td>\n",
       "      <td>2231426_49723</td>\n",
       "      <td>2231426</td>\n",
       "      <td>49723</td>\n",
       "      <td>L1</td>\n",
       "      <td>0</td>\n",
       "      <td>0</td>\n",
       "      <td>0</td>\n",
       "      <td>0</td>\n",
       "      <td>70</td>\n",
       "      <td>...</td>\n",
       "      <td>right</td>\n",
       "      <td>186.0</td>\n",
       "      <td>700000.0</td>\n",
       "      <td>5000000.0</td>\n",
       "      <td>21de58902f547e231bf2604be9fa996f</td>\n",
       "      <td>22</td>\n",
       "      <td>Timothy Chandler</td>\n",
       "      <td>0</td>\n",
       "      <td>0</td>\n",
       "      <td>0</td>\n",
       "    </tr>\n",
       "  </tbody>\n",
       "</table>\n",
       "<p>5 rows × 44 columns</p>\n",
       "</div>"
      ],
      "text/plain": [
       "   Unnamed: 0  appearance_id  game_id_x  player_id competition_id_x  \\\n",
       "0           0  2231426_49723    2231426      49723               L1   \n",
       "1           1  2231426_49723    2231426      49723               L1   \n",
       "2           2  2231426_49723    2231426      49723               L1   \n",
       "3           3  2231426_49723    2231426      49723               L1   \n",
       "4           4  2231426_49723    2231426      49723               L1   \n",
       "\n",
       "   yellow_cards  red_cards  goals  assists  minutes_played  ...   foot  \\\n",
       "0             0          0      0        0              70  ...  right   \n",
       "1             0          0      0        0              70  ...  right   \n",
       "2             0          0      0        0              70  ...  right   \n",
       "3             0          0      0        0              70  ...  right   \n",
       "4             0          0      0        0              70  ...  right   \n",
       "\n",
       "  height_in_cm  market_value_in_eur  highest_market_value_in_eur  \\\n",
       "0        186.0             700000.0                    5000000.0   \n",
       "1        186.0             700000.0                    5000000.0   \n",
       "2        186.0             700000.0                    5000000.0   \n",
       "3        186.0             700000.0                    5000000.0   \n",
       "4        186.0             700000.0                    5000000.0   \n",
       "\n",
       "                    game_lineups_id number     player_name_y  team_captain  \\\n",
       "0  8d717b1017e72d89d2ee1112bb2d7466     22  Timothy Chandler             0   \n",
       "1  d53eb3fd74523d6dd4536653c145ae96     22  Timothy Chandler             0   \n",
       "2  3efc21c645e46b2f411bcdb1710aa444     22  Timothy Chandler             0   \n",
       "3  cc79e78c570ce19872dfed125d324407     22  Timothy Chandler             0   \n",
       "4  21de58902f547e231bf2604be9fa996f     22  Timothy Chandler             0   \n",
       "\n",
       "  scored_goal received_yellow_card  \n",
       "0           0                    0  \n",
       "1           0                    0  \n",
       "2           0                    0  \n",
       "3           0                    0  \n",
       "4           0                    0  \n",
       "\n",
       "[5 rows x 44 columns]"
      ]
     },
     "execution_count": 19,
     "metadata": {},
     "output_type": "execute_result"
    }
   ],
   "source": [
    "data.head()"
   ]
  },
  {
   "cell_type": "markdown",
   "id": "68d56252-e83e-41c8-bdd8-809d46a1aac5",
   "metadata": {},
   "source": [
    "# Sprint 5"
   ]
  },
  {
   "cell_type": "markdown",
   "id": "fa9d72d6-5073-4eba-9b2a-64276cdf4f17",
   "metadata": {},
   "source": [
    "## Regression: Simple and Multiple linear regression ."
   ]
  },
  {
   "cell_type": "markdown",
   "id": "0a8c4ecd-7446-43ef-b1c3-dee7be1ec5b8",
   "metadata": {},
   "source": [
    " ### 2. Player Profile and Market Value\n",
    "3: What are the average market values of players by their positions?\n",
    "4: How does player height correlate with market value?\n",
    "5: What are the top 5 clubs with the highest average player market value?\n",
    "6: What are the distributions of foot preferences among players?"
   ]
  },
  {
   "cell_type": "code",
   "execution_count": 23,
   "id": "719eb0d6-ebf5-4b97-9c3e-2998802c6de4",
   "metadata": {},
   "outputs": [],
   "source": [
    "from sklearn.linear_model import LinearRegression\n",
    "from sklearn.model_selection import train_test_split\n",
    "from sklearn.metrics import mean_squared_error, r2_score\n",
    "from statsmodels.stats.outliers_influence import variance_inflation_factor"
   ]
  },
  {
   "cell_type": "markdown",
   "id": "ba446ed5-3a18-4c32-ab27-77c13498f4e0",
   "metadata": {},
   "source": [
    "###### 1. Average Market Values by Position : \n",
    " Predict market_value_in_eur using a single independent variable (height_in_cm)."
   ]
  },
  {
   "cell_type": "code",
   "execution_count": 25,
   "id": "42e4a742-f202-4e67-8925-2c222d7e1584",
   "metadata": {},
   "outputs": [
    {
     "name": "stdout",
     "output_type": "stream",
     "text": [
      "Simple Linear Regression Results:\n",
      "Mean Squared Error: 107894275802348.17\n",
      "R-squared Score: 0.08181851465822232\n"
     ]
    }
   ],
   "source": [
    "# Define Features and Target for Simple Linear Regression\n",
    "\n",
    "X_simple = data[['height_in_cm']]  # Predictor\n",
    "y_simple = data['market_value_in_eur']  # Target\n",
    "\n",
    "# Train-test split\n",
    "X_train_simple, X_test_simple, y_train_simple, y_test_simple = train_test_split(\n",
    "    X_simple, y_simple, test_size=0.2, random_state=42\n",
    ")\n",
    "\n",
    "# Simple Linear Regression Model\n",
    "lr_simple = LinearRegression()\n",
    "lr_simple.fit(X_train_simple, y_train_simple)\n",
    "\n",
    "# Predictions\n",
    "y_pred_simple = lr_simple.predict(X_test_simple)\n",
    "\n",
    "# Evaluation\n",
    "mse_simple = mean_squared_error(y_test_simple, y_pred_simple)\n",
    "r2_simple = r2_score(y_test_simple, y_pred_simple)\n",
    "print(\"Simple Linear Regression Results:\")\n",
    "print(\"Mean Squared Error:\", mse_simple)\n",
    "print(\"R-squared Score:\", r2_simple)\n",
    "\n"
   ]
  },
  {
   "cell_type": "markdown",
   "id": "7c66a15d-58c9-49ef-94e7-10d79d63869a",
   "metadata": {},
   "source": [
    "### Interpretation:\n",
    "A hight MSE and a low R-squared indicate that the model is not a good fit.\n",
    "If R² is low, it suggests that height_in_cm alone may not be a strong predictor of market_value_in_eur. When the low MSE and high in R-squared then the model is said to be good fit"
   ]
  },
  {
   "cell_type": "markdown",
   "id": "d3997a28-f19e-4706-adef-a373686b14b6",
   "metadata": {},
   "source": [
    "###### 2. How does player height correlate with market value :\n",
    "Perform feature selection by analyzing multi-collinearity (using Variance Inflation Factor) and correlation."
   ]
  },
  {
   "cell_type": "code",
   "execution_count": 28,
   "id": "c0d45f9d-ceed-4836-b0bf-dd706b0b327c",
   "metadata": {},
   "outputs": [
    {
     "name": "stdout",
     "output_type": "stream",
     "text": [
      "Variance Inflation Factor:\n",
      "           Feature         VIF\n",
      "0    height_in_cm    1.070596\n",
      "1    yellow_cards    1.059432\n",
      "2       red_cards         NaN\n",
      "3           goals    1.053174\n",
      "4         assists    1.037987\n",
      "5  minutes_played    1.072760\n",
      "6       Intercept  888.917440\n"
     ]
    }
   ],
   "source": [
    "from statsmodels.stats.outliers_influence import variance_inflation_factor\n",
    "\n",
    "# Candidate Features for Multiple Linear Regression\n",
    "candidate_features = ['height_in_cm', 'yellow_cards', 'red_cards', 'goals', 'assists', 'minutes_played']\n",
    "X_mlr = data[candidate_features]\n",
    "\n",
    "# Calculate VIF to identify multicollinearity\n",
    "X_mlr['Intercept'] = 1  # Adding an intercept column for VIF calculation\n",
    "vif_data = pd.DataFrame()\n",
    "vif_data['Feature'] = X_mlr.columns\n",
    "vif_data['VIF'] = [variance_inflation_factor(X_mlr.values, i) for i in range(X_mlr.shape[1])]\n",
    "print(\"Variance Inflation Factor:\\n\", vif_data)\n",
    "\n",
    "# Drop the 'Intercept' after VIF calculation\n",
    "X_mlr = X_mlr.drop(columns=['Intercept'])\n",
    "\n",
    "# Optional: Drop features with high VIF (e.g., >10), as they indicate multicollinearity\n",
    "# Example: If 'yellow_cards' has high VIF, remove it\n",
    "# X_mlr = X_mlr.drop(columns=['yellow_cards']) \n"
   ]
  },
  {
   "cell_type": "markdown",
   "id": "71f5ac57-19bf-433c-a46c-ebd944a9d01c",
   "metadata": {},
   "source": [
    "### Interpretation:\n",
    "Features with low VIF are selected for further modeling.\n",
    "High VIF values suggest multicollinearity, meaning two or more features are redundant."
   ]
  },
  {
   "cell_type": "markdown",
   "id": "3d69aaed-8fe5-4f60-9ab2-436e2af75edf",
   "metadata": {},
   "source": [
    "###### 3: What are the top 5 clubs with the highest average player market value :\n",
    "Predict market_value_in_eur using selected features after addressing multicollinearity (vif).\n"
   ]
  },
  {
   "cell_type": "code",
   "execution_count": 31,
   "id": "617bd9ea-b225-4a64-a414-7012c0b41ad8",
   "metadata": {},
   "outputs": [
    {
     "name": "stdout",
     "output_type": "stream",
     "text": [
      "Multiple Linear Regression Results:\n",
      "Mean Squared Error: 104531357736565.56\n",
      "R-squared Score: 0.11043698474628771\n"
     ]
    }
   ],
   "source": [
    "# Define Target\n",
    "y_mlr = data['market_value_in_eur']\n",
    "\n",
    "# Train-test Split\n",
    "X_train_mlr, X_test_mlr, y_train_mlr, y_test_mlr = train_test_split(\n",
    "    X_mlr, y_mlr, test_size=0.2, random_state=42\n",
    ")\n",
    "\n",
    "# Multiple Linear Regression Model\n",
    "mlr = LinearRegression()\n",
    "mlr.fit(X_train_mlr, y_train_mlr)\n",
    "\n",
    "# Predictions\n",
    "y_pred_mlr = mlr.predict(X_test_mlr)\n",
    "\n",
    "# Evaluation\n",
    "mse_mlr = mean_squared_error(y_test_mlr, y_pred_mlr)\n",
    "r2_mlr = r2_score(y_test_mlr, y_pred_mlr)\n",
    "print(\"Multiple Linear Regression Results:\")\n",
    "print(\"Mean Squared Error:\", mse_mlr)\n",
    "print(\"R-squared Score:\", r2_mlr)\n"
   ]
  },
  {
   "cell_type": "markdown",
   "id": "e7137d10-a5c0-4ce3-a571-4e53a77d4ead",
   "metadata": {},
   "source": [
    "### Interpretation:\n",
    "A high R² means the selected features collectively explain a significant portion of the variation in market_value_in_eur.\n",
    "A low R² or high MSE suggests that either the selected features are insufficient or the relationship between predictors and target is non-linear."
   ]
  },
  {
   "cell_type": "code",
   "execution_count": 33,
   "id": "8dca8408-912b-41fd-a5a6-a577253b1e28",
   "metadata": {},
   "outputs": [
    {
     "data": {
      "text/plain": [
       "Index(['Unnamed: 0', 'appearance_id', 'game_id_x', 'player_id',\n",
       "       'competition_id_x', 'yellow_cards', 'red_cards', 'goals', 'assists',\n",
       "       'minutes_played', 'season', 'round', 'home_club_goals',\n",
       "       'away_club_goals', 'home_club_manager_name', 'away_club_manager_name',\n",
       "       'stadium', 'attendance', 'referee', 'away_club_name', 'aggregate',\n",
       "       'competition_type', 'game_event_id', 'date', 'minute', 'type_x', 'name',\n",
       "       'last_season', 'current_club_id', 'player_code', 'country_of_birth',\n",
       "       'date_of_birth', 'sub_position', 'position_x', 'foot', 'height_in_cm',\n",
       "       'market_value_in_eur', 'highest_market_value_in_eur', 'game_lineups_id',\n",
       "       'number', 'player_name_y', 'team_captain', 'scored_goal',\n",
       "       'received_yellow_card'],\n",
       "      dtype='object')"
      ]
     },
     "execution_count": 33,
     "metadata": {},
     "output_type": "execute_result"
    }
   ],
   "source": [
    "data.columns"
   ]
  },
  {
   "cell_type": "markdown",
   "id": "afbea0d3-1abb-4747-b981-0869b8b38afd",
   "metadata": {},
   "source": [
    "# Sprint 6"
   ]
  },
  {
   "cell_type": "markdown",
   "id": "62ccc695-9c53-4511-be93-cd1b8bedd354",
   "metadata": {},
   "source": [
    "### Team Comparison:\n",
    "#### Business Questions:\n"
   ]
  },
  {
   "cell_type": "code",
   "execution_count": 36,
   "id": "cee0945b-d251-4b50-9cc6-c5977510179e",
   "metadata": {},
   "outputs": [
    {
     "data": {
      "text/plain": [
       "Unnamed: 0                     0\n",
       "appearance_id                  0\n",
       "game_id_x                      0\n",
       "player_id                      0\n",
       "competition_id_x               0\n",
       "yellow_cards                   0\n",
       "red_cards                      0\n",
       "goals                          0\n",
       "assists                        0\n",
       "minutes_played                 0\n",
       "season                         0\n",
       "round                          0\n",
       "home_club_goals                0\n",
       "away_club_goals                0\n",
       "home_club_manager_name         0\n",
       "away_club_manager_name         0\n",
       "stadium                        0\n",
       "attendance                     0\n",
       "referee                        0\n",
       "away_club_name                 0\n",
       "aggregate                      0\n",
       "competition_type               0\n",
       "game_event_id                  0\n",
       "date                           0\n",
       "minute                         0\n",
       "type_x                         0\n",
       "name                           0\n",
       "last_season                    0\n",
       "current_club_id                0\n",
       "player_code                    0\n",
       "country_of_birth               0\n",
       "date_of_birth                  0\n",
       "sub_position                   0\n",
       "position_x                     0\n",
       "foot                           0\n",
       "height_in_cm                   0\n",
       "market_value_in_eur            0\n",
       "highest_market_value_in_eur    0\n",
       "game_lineups_id                0\n",
       "number                         0\n",
       "player_name_y                  0\n",
       "team_captain                   0\n",
       "scored_goal                    0\n",
       "received_yellow_card           0\n",
       "dtype: int64"
      ]
     },
     "execution_count": 36,
     "metadata": {},
     "output_type": "execute_result"
    }
   ],
   "source": [
    "data.isnull().sum()"
   ]
  },
  {
   "cell_type": "markdown",
   "id": "1cb80ae1-93e0-4340-bd87-f9bd5d1a8eb9",
   "metadata": {},
   "source": [
    "1. Do teams score significantly more goals in home_club than the population mean(average goals in all games)"
   ]
  },
  {
   "cell_type": "markdown",
   "id": "8698d5d3-c77a-4b3a-9314-3ff0f6ff0dcb",
   "metadata": {},
   "source": [
    "H0: The mean goals scored in home games is equal to the population mean .  \n",
    "H1: The mean goals scored in home games is significantly greater than the population mean "
   ]
  },
  {
   "cell_type": "code",
   "execution_count": 39,
   "id": "bb89a5c6-6ab9-4f24-b103-bf18341405c7",
   "metadata": {},
   "outputs": [],
   "source": [
    "import pandas as pd\n",
    "import numpy as np\n",
    "from scipy.stats import ttest_1samp\n",
    "import matplotlib.pyplot as plt"
   ]
  },
  {
   "cell_type": "code",
   "execution_count": 40,
   "id": "ec7d08fa-bce7-442d-a2f2-455ae0c15b8c",
   "metadata": {},
   "outputs": [
    {
     "name": "stdout",
     "output_type": "stream",
     "text": [
      "Population Mean: 1.72\n",
      "Population Std Dev: 1.51\n",
      "Sample Mean (Home Goals): 1.89\n",
      "Sample Std Dev: 1.52\n",
      "Sample Size: 4199\n",
      "T-Statistic: 7.10\n",
      "P-Value: 0.0000\n"
     ]
    }
   ],
   "source": [
    "# Calculate population mean (average goals in all games)\n",
    "population_mean = data[['home_club_goals', 'away_club_goals']].stack().mean()\n",
    "population_std = data[['home_club_goals', 'away_club_goals']].stack().std()\n",
    "\n",
    "# Sample data: goals scored in home games\n",
    "sample_data = data['home_club_goals']\n",
    "sample_mean = sample_data.mean()\n",
    "sample_std = sample_data.std()\n",
    "sample_size = len(sample_data)\n",
    "\n",
    "# Perform a one-sample t-test\n",
    "t_stat, p_value = ttest_1samp(sample_data, population_mean)\n",
    "\n",
    "# Print results\n",
    "print(f\"Population Mean: {population_mean:.2f}\")\n",
    "print(f\"Population Std Dev: {population_std:.2f}\")\n",
    "print(f\"Sample Mean (Home Goals): {sample_mean:.2f}\")\n",
    "print(f\"Sample Std Dev: {sample_std:.2f}\")\n",
    "print(f\"Sample Size: {sample_size}\")\n",
    "print(f\"T-Statistic: {t_stat:.2f}\")\n",
    "print(f\"P-Value: {p_value:.4f}\")"
   ]
  },
  {
   "cell_type": "code",
   "execution_count": 41,
   "id": "dcdeac31-8f32-4739-abc0-15a1de1047cf",
   "metadata": {},
   "outputs": [
    {
     "data": {
      "image/png": "[encoded data removed]",
      "text/plain": [
       "<Figure size 800x600 with 1 Axes>"
      ]
     },
     "metadata": {},
     "output_type": "display_data"
    }
   ],
   "source": [
    "plt.figure(figsize=(8, 6))\n",
    "plt.hist(sample_data, bins=15, alpha=0.6, label=\"Home club goals Distribution\")\n",
    "plt.axvline(population_mean, color='r', linestyle='dashed', linewidth=2, label=f\"Population Mean ({population_mean:.2f})\")\n",
    "plt.axvline(sample_mean, color='g', linestyle='dashed', linewidth=2, label=f\"Sample Mean ({sample_mean:.2f})\")\n",
    "plt.title(\"Home club goals Distribution vs Population Mean\")\n",
    "plt.xlabel(\"Goals Scored\")\n",
    "plt.ylabel(\"Frequency\")\n",
    "plt.legend()\n",
    "plt.show()"
   ]
  },
  {
   "cell_type": "markdown",
   "id": "780ae795-91ed-4d13-ba79-058a1aab5f26",
   "metadata": {},
   "source": [
    "Interpretation:\n",
    "If the p-value is less than 0.05, reject the null hypothesis and conclude that home teams score significantly more goals than the population mean."
   ]
  },
  {
   "cell_type": "markdown",
   "id": "327c4f8d-0122-4013-8942-e90025c936eb",
   "metadata": {},
   "source": [
    "2. Are defenders more likely to receive yellow cards compared to midfielders?"
   ]
  },
  {
   "cell_type": "markdown",
   "id": "b14604df-a901-4bb7-bbe8-9098e2c1b542",
   "metadata": {},
   "source": [
    "H0: The mean number of yellow cards received by defenders is equal to midfielders.  \n",
    "H1: The mean number of yellow cards received by defenders is significantly different from midfielders."
   ]
  },
  {
   "cell_type": "code",
   "execution_count": 45,
   "id": "fc50dd46-75e5-45d6-a27b-2e4c733c9692",
   "metadata": {},
   "outputs": [
    {
     "name": "stdout",
     "output_type": "stream",
     "text": [
      "Defenders: Mean=0.25, Std Dev=0.43, Sample Size=952\n",
      "Midfielders: Mean=nan, Std Dev=nan, Sample Size=0\n",
      "T-Statistic: nan\n",
      "P-Value: nan\n"
     ]
    },
    {
     "data": {
      "image/png": "[encoded data removed]",
      "text/plain": [
       "<Figure size 800x600 with 1 Axes>"
      ]
     },
     "metadata": {},
     "output_type": "display_data"
    }
   ],
   "source": [
    "from scipy.stats import ttest_ind\n",
    "\n",
    "# Filter data for defenders and midfielders\n",
    "defenders = data[data['position_x'] == 'Defender']['yellow_cards']\n",
    "midfielders = data[data['position_x'] == 'Midfielder']['yellow_cards']\n",
    "\n",
    "# Calculate means, std deviations, and sample sizes\n",
    "def_mean, def_std, def_size = defenders.mean(), defenders.std(), len(defenders)\n",
    "mid_mean, mid_std, mid_size = midfielders.mean(), midfielders.std(), len(midfielders)\n",
    "\n",
    "# Perform an independent t-test\n",
    "t_stat, p_value = ttest_ind(defenders, midfielders, equal_var=False)\n",
    "\n",
    "# Print results\n",
    "print(f\"Defenders: Mean={def_mean:.2f}, Std Dev={def_std:.2f}, Sample Size={def_size}\")\n",
    "print(f\"Midfielders: Mean={mid_mean:.2f}, Std Dev={mid_std:.2f}, Sample Size={mid_size}\")\n",
    "print(f\"T-Statistic: {t_stat:.2f}\")\n",
    "print(f\"P-Value: {p_value:.4f}\")\n",
    "\n",
    "# Visualization\n",
    "plt.figure(figsize=(8, 6))\n",
    "plt.boxplot([defenders, midfielders], labels=['Defenders', 'Midfielders'])\n",
    "plt.title(\"Yellow Cards: Defenders vs Midfielders\")\n",
    "plt.ylabel(\"Number of Yellow Cards\")\n",
    "plt.show()\n",
    "\n"
   ]
  },
  {
   "cell_type": "markdown",
   "id": "99b3cf97-e450-4efe-a1c8-ae6a4c25da63",
   "metadata": {},
   "source": [
    "3: Do players score significantly more goals in home games compared to away games?"
   ]
  },
  {
   "cell_type": "markdown",
   "id": "8d97979d-6308-4617-bf97-8639aa4ddb27",
   "metadata": {},
   "source": [
    "Hypothesis:\n",
    "H0:: The mean goals scored in home games is equal to away games.\n",
    "H1: The mean goals scored in home games is significantly different from away games."
   ]
  },
  {
   "cell_type": "code",
   "execution_count": 48,
   "id": "5b1f2191-0fc3-46ee-8731-ef4f2e900ba6",
   "metadata": {},
   "outputs": [
    {
     "name": "stdout",
     "output_type": "stream",
     "text": [
      "Home Goals: Mean=1.89, Std Dev=1.52, Sample Size=4199\n",
      "Away Goals: Mean=1.56, Std Dev=1.47, Sample Size=4199\n",
      "T-Statistic: 10.15\n",
      "P-Value: 0.0000\n"
     ]
    },
    {
     "data": {
      "image/png": "[encoded data removed]",
      "text/plain": [
       "<Figure size 1000x600 with 1 Axes>"
      ]
     },
     "metadata": {},
     "output_type": "display_data"
    }
   ],
   "source": [
    "import seaborn as sns\n",
    "# Paired data: home and away goals\n",
    "home_goals = data['home_club_goals']\n",
    "away_goals = data['away_club_goals']\n",
    "\n",
    "# Calculate means, std deviations, and sample sizes\n",
    "home_mean, home_std, home_size = home_goals.mean(), home_goals.std(), len(home_goals)\n",
    "away_mean, away_std, away_size = away_goals.mean(), away_goals.std(), len(away_goals)\n",
    "\n",
    "# Perform paired t-test\n",
    "t_stat, p_value = ttest_1samp(home_goals - away_goals, 0)\n",
    "\n",
    "# Print results\n",
    "print(f\"Home Goals: Mean={home_mean:.2f}, Std Dev={home_std:.2f}, Sample Size={home_size}\")\n",
    "print(f\"Away Goals: Mean={away_mean:.2f}, Std Dev={away_std:.2f}, Sample Size={away_size}\")\n",
    "print(f\"T-Statistic: {t_stat:.2f}\")\n",
    "print(f\"P-Value: {p_value:.4f}\")\n",
    "\n",
    "# Visualization\n",
    "plt.figure(figsize=(10, 6))\n",
    "sns.histplot(home_goals - away_goals, kde=True, color='blue', bins=20, alpha=0.6)\n",
    "plt.axvline(0, color='r', linestyle='dashed', linewidth=2, label=\"No Difference\")\n",
    "plt.title(\"Difference in Goals: Home vs Away\")\n",
    "plt.xlabel(\"Goal Difference (Home - Away)\")\n",
    "plt.ylabel(\"Frequency\")\n",
    "plt.legend()\n",
    "plt.show()\n"
   ]
  },
  {
   "cell_type": "markdown",
   "id": "f4e9966b-b5ef-4420-bba5-3b8623b34868",
   "metadata": {},
   "source": [
    "Interpretation:\n",
    "The paired t-test compares the average goals scored by home and away teams.\n",
    "Means: Home teams scored more goals on average than away teams.\n",
    "T-Statistic & P-Value: A significant t-statistic (with a low p-value) indicates a statistically significant difference between home and away goals.\n",
    "Visualization: The histogram shows the distribution of goal differences (home - away), with most values skewed above zero, suggesting home teams generally score more goals.\n"
   ]
  },
  {
   "cell_type": "code",
   "execution_count": null,
   "id": "9cb99255-1903-4487-af37-e15cce6d4070",
   "metadata": {},
   "outputs": [],
   "source": []
  }
 ],
 "metadata": {
  "kernelspec": {
   "display_name": "Python 3 (ipykernel)",
   "language": "python",
   "name": "python3"
  },
  "language_info": {
   "codemirror_mode": {
    "name": "ipython",
    "version": 3
   },
   "file_extension": ".py",
   "mimetype": "text/x-python",
   "name": "python",
   "nbconvert_exporter": "python",
   "pygments_lexer": "ipython3",
   "version": "3.12.4"
  }
 },
 "nbformat": 4,
 "nbformat_minor": 5
}
